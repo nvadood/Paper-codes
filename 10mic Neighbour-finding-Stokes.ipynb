{
 "cells": [
  {
   "cell_type": "code",
   "execution_count": 1,
   "id": "50f1003e",
   "metadata": {},
   "outputs": [],
   "source": [
    "import sarracen\n",
    "from sklearn.neighbors import KDTree\n",
    "import numpy as np\n",
    "import pandas as pd\n",
    "from statistics import mean\n",
    "import pickle\n",
    "import seaborn as sns\n",
    "import matplotlib.pyplot as plt"
   ]
  },
  {
   "cell_type": "markdown",
   "id": "4a0b44cf",
   "metadata": {},
   "source": [
    "# Finding gas neighbours of dust particles in the 2-fluid method"
   ]
  },
  {
   "cell_type": "code",
   "execution_count": 2,
   "id": "174fa78d",
   "metadata": {},
   "outputs": [
    {
     "name": "stderr",
     "output_type": "stream",
     "text": [
      "/users/labnet6/gr2/nvadood/virtual-env/lib/python3.8/site-packages/numba/cuda/cudadrv/nvvm.py:400: UserWarning: CUDA Toolkit 10.1 is unsupported by Numba - 11.0 is the minimum required version.\n",
      "  warnings.warn(unsupported_ver)\n",
      "/users/labnet6/gr2/nvadood/virtual-env/lib/python3.8/site-packages/numba/cuda/cudadrv/nvvm.py:400: UserWarning: CUDA Toolkit 10.1 is unsupported by Numba - 11.0 is the minimum required version.\n",
      "  warnings.warn(unsupported_ver)\n"
     ]
    }
   ],
   "source": [
    "sdf_g, sdf_d = sarracen.read_phantom('2fluid/2f10mic256_00160', separate_types='all')"
   ]
  },
  {
   "cell_type": "code",
   "execution_count": 3,
   "id": "32dabbb6",
   "metadata": {},
   "outputs": [],
   "source": [
    "sdf_g.calc_density()\n",
    "sdf_d.calc_density()"
   ]
  },
  {
   "cell_type": "code",
   "execution_count": null,
   "id": "2818279c",
   "metadata": {},
   "outputs": [],
   "source": [
    "# First find the dust neighbours of gas particles\n",
    "def find_neighbours(sdf_g, sdf_d):\n",
    "\n",
    "    sdf_tmp = sdf_d.copy()\n",
    "    hmax = 2 * sdf_d.h.max()\n",
    "\n",
    "    sdf_s1 = sdf_tmp[sdf_tmp.x + hmax - 1.0 > 0.0].copy()\n",
    "    sdf_s2 = sdf_tmp[sdf_tmp.x - hmax + 1.0 < 1.0].copy()\n",
    "    sdf_s3 = sdf_tmp[sdf_tmp.y + hmax - 1.0 > 0.0].copy()\n",
    "    sdf_s4 = sdf_tmp[sdf_tmp.y - hmax + 1.0 < 1.0].copy()\n",
    "    sdf_s5 = sdf_tmp[sdf_tmp.z + hmax - 1.0 > 0.0].copy()\n",
    "    sdf_s6 = sdf_tmp[sdf_tmp.z - hmax + 1.0 < 1.0].copy()\n",
    "    sdf_s1['x'] = sdf_s1['x'] - 1.0\n",
    "    sdf_s2['x'] = sdf_s2['x'] + 1.0\n",
    "    sdf_s3['y'] = sdf_s3['y'] - 1.0\n",
    "    sdf_s4['y'] = sdf_s4['y'] + 1.0\n",
    "    sdf_s5['z'] = sdf_s5['z'] - 1.0\n",
    "    sdf_s6['z'] = sdf_s6['z'] + 1.0\n",
    "\n",
    "    # corners\n",
    "    c1 = sdf_tmp[(sdf_tmp.x + hmax - 1.0 > 0.0)\n",
    "                    & (sdf_tmp.y + hmax - 1.0 > 0.0)].copy()\n",
    "    c2 = sdf_tmp[(sdf_tmp.x + hmax + 1.0 < 1.0)\n",
    "                    & (sdf_tmp.y + hmax - 1.0 > 0.0)].copy()\n",
    "    c3 = sdf_tmp[(sdf_tmp.x + hmax - 1.0 > 0.0)\n",
    "                    & (sdf_tmp.y + hmax + 1.0 < 1.0)].copy()\n",
    "    c4 = sdf_tmp[(sdf_tmp.x + hmax + 1.0 < 1.0)\n",
    "                    & (sdf_tmp.y + hmax + 1.0 < 1.0)].copy()\n",
    "\n",
    "    c5 = sdf_tmp[(sdf_tmp.y + hmax - 1.0 > 0.0)\n",
    "                    & (sdf_tmp.z + hmax - 1.0 > 0.0)].copy()\n",
    "    c6 = sdf_tmp[(sdf_tmp.y + hmax + 1.0 < 1.0)\n",
    "                    & (sdf_tmp.z + hmax - 1.0 > 0.0)].copy()\n",
    "    c7 = sdf_tmp[(sdf_tmp.y + hmax - 1.0 > 0.0)\n",
    "                    & (sdf_tmp.z + hmax + 1.0 < 1.0)].copy()\n",
    "    c8 = sdf_tmp[(sdf_tmp.y + hmax + 1.0 < 1.0)\n",
    "                    & (sdf_tmp.z + hmax + 1.0 < 1.0)].copy()\n",
    "\n",
    "    c9 = sdf_tmp[(sdf_tmp.x + hmax - 1.0 > 0.0)\n",
    "                    & (sdf_tmp.z + hmax - 1.0 > 0.0)].copy()\n",
    "    c10 = sdf_tmp[(sdf_tmp.x + hmax + 1.0 < 1.0)\n",
    "                    & (sdf_tmp.z + hmax - 1.0 > 0.0)].copy()\n",
    "    c11 = sdf_tmp[(sdf_tmp.x + hmax - 1.0 > 0.0)\n",
    "                    & (sdf_tmp.z + hmax + 1.0 < 1.0)].copy()\n",
    "    c12 = sdf_tmp[(sdf_tmp.x + hmax + 1.0 < 1.0)\n",
    "                    & (sdf_tmp.z + hmax + 1.0 < 1.0)].copy()\n",
    "\n",
    "    c1['x'] = c1['x'] - 1.0\n",
    "    c1['y'] = c1['y'] - 1.0\n",
    "    c2['x'] = c2['x'] + 1.0\n",
    "    c2['y'] = c2['y'] - 1.0\n",
    "    c3['x'] = c3['x'] - 1.0\n",
    "    c3['y'] = c3['y'] + 1.0\n",
    "    c4['x'] = c4['x'] + 1.0\n",
    "    c4['y'] = c4['y'] + 1.0\n",
    "\n",
    "    c5['y'] = c5['y'] - 1.0\n",
    "    c5['z'] = c5['z'] - 1.0\n",
    "    c6['y'] = c6['y'] + 1.0\n",
    "    c6['z'] = c6['z'] - 1.0\n",
    "    c7['y'] = c7['y'] - 1.0\n",
    "    c7['z'] = c7['z'] + 1.0\n",
    "    c8['y'] = c8['y'] + 1.0\n",
    "    c8['z'] = c8['z'] + 1.0\n",
    "\n",
    "    c9['x'] = c9['x'] - 1.0\n",
    "    c9['z'] = c9['z'] - 1.0\n",
    "    c10['x'] = c10['x'] + 1.0\n",
    "    c10['z'] = c10['z'] - 1.0\n",
    "    c11['x'] = c11['x'] - 1.0\n",
    "    c11['z'] = c11['z'] + 1.0\n",
    "    c12['x'] = c12['x'] + 1.0\n",
    "    c12['z'] = c12['z'] + 1.0\n",
    "\n",
    "\n",
    "    # more corners\n",
    "    sdf_c1 = sdf_tmp[(sdf_tmp.x + hmax - 1.0 > 0.0)\n",
    "                    & (sdf_tmp.y + hmax - 1.0 > 0.0)\n",
    "                    & (sdf_tmp.z + hmax - 1.0 > 0.0)].copy()\n",
    "    sdf_c2 = sdf_tmp[(sdf_tmp.x + hmax + 1.0 > 0.0)\n",
    "                    & (sdf_tmp.y + hmax - 1.0 > 0.0)\n",
    "                    & (sdf_tmp.z + hmax - 1.0 > 0.0)].copy()\n",
    "    sdf_c3 = sdf_tmp[(sdf_tmp.x + hmax - 1.0 > 0.0)\n",
    "                    & (sdf_tmp.y + hmax + 1.0 > 0.0)\n",
    "                    & (sdf_tmp.z + hmax - 1.0 > 0.0)].copy()\n",
    "    sdf_c4 = sdf_tmp[(sdf_tmp.x + hmax + 1.0 > 0.0)\n",
    "                    & (sdf_tmp.y + hmax + 1.0 > 0.0)\n",
    "                    & (sdf_tmp.z + hmax - 1.0 > 0.0)].copy()\n",
    "    sdf_c5 = sdf_tmp[(sdf_tmp.x + hmax - 1.0 > 0.0)\n",
    "                    & (sdf_tmp.y + hmax - 1.0 > 0.0)\n",
    "                    & (sdf_tmp.z + hmax + 1.0 > 0.0)].copy()\n",
    "    sdf_c6 = sdf_tmp[(sdf_tmp.x + hmax + 1.0 > 0.0)\n",
    "                    & (sdf_tmp.y + hmax - 1.0 > 0.0)\n",
    "                    & (sdf_tmp.z + hmax + 1.0 > 0.0)].copy()\n",
    "    sdf_c7 = sdf_tmp[(sdf_tmp.x + hmax - 1.0 > 0.0)\n",
    "                    & (sdf_tmp.y + hmax + 1.0 > 0.0)\n",
    "                    & (sdf_tmp.z + hmax + 1.0 > 0.0)].copy()\n",
    "    sdf_c8 = sdf_tmp[(sdf_tmp.x + hmax + 1.0 > 0.0)\n",
    "                    & (sdf_tmp.y + hmax + 1.0 > 0.0)\n",
    "                    & (sdf_tmp.z + hmax + 1.0 > 0.0)].copy()\n",
    "    sdf_c1['x'] = sdf_c1['x'] - 1.0\n",
    "    sdf_c1['y'] = sdf_c1['y'] - 1.0\n",
    "    sdf_c1['z'] = sdf_c1['z'] - 1.0\n",
    "\n",
    "    sdf_c2['x'] = sdf_c2['x'] + 1.0\n",
    "    sdf_c2['y'] = sdf_c2['y'] - 1.0\n",
    "    sdf_c2['z'] = sdf_c2['z'] - 1.0\n",
    "\n",
    "    sdf_c3['x'] = sdf_c3['x'] - 1.0\n",
    "    sdf_c3['y'] = sdf_c3['y'] + 1.0\n",
    "    sdf_c3['z'] = sdf_c3['z'] - 1.0\n",
    "\n",
    "    sdf_c4['x'] = sdf_c4['x'] + 1.0\n",
    "    sdf_c4['y'] = sdf_c4['y'] + 1.0\n",
    "    sdf_c4['z'] = sdf_c4['z'] - 1.0\n",
    "\n",
    "    sdf_c5['x'] = sdf_c5['x'] - 1.0\n",
    "    sdf_c5['y'] = sdf_c5['y'] - 1.0\n",
    "    sdf_c5['z'] = sdf_c5['z'] + 1.0\n",
    "\n",
    "    sdf_c6['x'] = sdf_c6['x'] + 1.0\n",
    "    sdf_c6['y'] = sdf_c6['y'] - 1.0\n",
    "    sdf_c6['z'] = sdf_c6['z'] + 1.0\n",
    "\n",
    "    sdf_c7['x'] = sdf_c7['x'] - 1.0\n",
    "    sdf_c7['y'] = sdf_c7['y'] + 1.0\n",
    "    sdf_c7['z'] = sdf_c7['z'] + 1.0\n",
    "\n",
    "    sdf_c8['x'] = sdf_c8['x'] + 1.0\n",
    "    sdf_c8['y'] = sdf_c8['y'] + 1.0\n",
    "    sdf_c8['z'] = sdf_c8['z'] + 1.0\n",
    "\n",
    "    sdf_tmp = pd.concat([sdf_tmp, sdf_s1, sdf_s2, sdf_s3, sdf_s4, sdf_s5, sdf_s6,\n",
    "                        c1, c2, c3, c4, c5, c6, c7, c8, c9, c10, c11, c12,\n",
    "                        sdf_c1, sdf_c2, sdf_c3, sdf_c4, sdf_c5, sdf_c6, sdf_c7, sdf_c8]).reset_index()\n",
    "\n",
    "\n",
    "    # Built tree with periodic dust particles\n",
    "    tree = KDTree(sdf_tmp[['x', 'y', 'z']].to_numpy(), leaf_size=10)\n",
    "\n",
    "    # Search using gas particle positions and smoothing lengths\n",
    "    neighbours = tree.query_radius(sdf_g[['x', 'y', 'z']].to_numpy().reshape(-1, 3), r=2*sdf_g.h)\n",
    "    \n",
    "\n",
    "    return neighbours, sdf_tmp"
   ]
  },
  {
   "cell_type": "code",
   "execution_count": null,
   "id": "55fc9d11",
   "metadata": {},
   "outputs": [],
   "source": [
    "neighbours, sdf_tmp = find_neighbours(sdf_g, sdf_d)"
   ]
  },
  {
   "cell_type": "code",
   "execution_count": null,
   "id": "6cf1b5b2",
   "metadata": {},
   "outputs": [],
   "source": [
    "# initialize strucure to hold gas neighbours of each dust particle\n",
    "dust_neighbours = []\n",
    "for i in range(len(neighbours)):\n",
    "    b = np.array([], dtype=np.int64)\n",
    "    dust_neighbours.append(b)"
   ]
  },
  {
   "cell_type": "code",
   "execution_count": null,
   "id": "9591b28b",
   "metadata": {},
   "outputs": [],
   "source": [
    "# loop over each gas-dust neighbour pair\n",
    "for gas_particle in range(len(neighbours)):\n",
    "    \n",
    "        \n",
    "    for dust_neighbour in neighbours[gas_particle]:\n",
    "        \n",
    "        if dust_neighbour >= len(sdf_d):\n",
    "            dust_neighbour = sdf_tmp.loc[dust_neighbour, 'index'] - 16777216\n",
    "            \n",
    "        dust_neighbours[dust_neighbour] = np.append(dust_neighbours[dust_neighbour], int(gas_particle))\n"
   ]
  },
  {
   "cell_type": "code",
   "execution_count": null,
   "id": "2908b1b2",
   "metadata": {},
   "outputs": [],
   "source": [
    "with open('dust_neighbours.pkl', 'wb') as file:\n",
    "    pickle.dump(dust_neighbours, file)"
   ]
  },
  {
   "cell_type": "markdown",
   "id": "e4dfbd82",
   "metadata": {},
   "source": [
    "# Interpolate the density and velocity of gas particle neighbours at dust particle locations"
   ]
  },
  {
   "cell_type": "code",
   "execution_count": null,
   "id": "a8bba5ff",
   "metadata": {},
   "outputs": [],
   "source": [
    "# Read dust neighbours file \n",
    "with open('dust_neighbours.pkl', 'rb') as file:\n",
    "    dust_neighbours = pickle.load(file)"
   ]
  },
  {
   "cell_type": "code",
   "execution_count": null,
   "id": "c87ba82a",
   "metadata": {},
   "outputs": [],
   "source": [
    "mass = 5.900860E-08\n",
    "sigma = 1/np.pi\n",
    "rhog = []\n",
    "vx = []\n",
    "vy = []\n",
    "vz = []\n",
    "\n",
    "for ind, array in enumerate(dust_neighbours):\n",
    "    vx_neighb = 0\n",
    "    vy_neighb = 0\n",
    "    vz_neighb = 0    \n",
    "    neighbor_rho = 0\n",
    "    \n",
    "    rho_dust = sdf_d.loc[16777216 + ind, 'rho']\n",
    "    r_dust = sdf_d.loc[16777216  + ind, ['x', 'y', 'z']]\n",
    "    v_dust = sdf_d.loc[16777216 + ind, ['vx', 'vy', 'vz']]\n",
    "\n",
    "\n",
    "    \n",
    "    for j in range(len(array)):\n",
    "        \n",
    "        rho_gas = sdf_g.loc[array[j], 'rho']\n",
    "        r_gas = sdf_g.loc[array[j], ['x', 'y', 'z']]\n",
    "        h_gas = sdf_g.loc[array[j], 'h']\n",
    "        vx_gas = sdf_g.loc[array[j], 'vx']\n",
    "        vy_gas = sdf_g.loc[array[j], 'vy']\n",
    "        vz_gas = sdf_g.loc[array[j], 'vz']\n",
    "        \n",
    "        # cubic kernel\n",
    "        q = np.linalg.norm(r_gas - r_dust) / h_gas\n",
    "        if q < 1:\n",
    "            f_q = 1 - 1.5 * q**2 + 0.75 * q**3\n",
    "        elif q < 2:\n",
    "            f_q = 0.25 * (2 - q)**3\n",
    "        else:\n",
    "            f_q = 0\n",
    "\n",
    "        neighbor_rho += mass * sigma * f_q / h_gas**3\n",
    "        vx_neighb += vx_gas * mass * sigma * f_q / (h_gas**3 * rho_gas)\n",
    "        vy_neighb += vy_gas * mass * sigma * f_q / (h_gas**3 * rho_gas)\n",
    "        vz_neighb += vz_gas * mass * sigma * f_q / (h_gas**3 * rho_gas)\n",
    "\n",
    "        \n",
    "    rhog.append(neighbor_rho)   \n",
    "    vx.append(vx_neighb)\n",
    "    vy.append(vy_neighb)\n",
    "    vz.append(vz_neighb)\n"
   ]
  },
  {
   "cell_type": "code",
   "execution_count": null,
   "id": "d0dc9e40",
   "metadata": {},
   "outputs": [],
   "source": [
    "df = pd.DataFrame({'vx_g': vx, 'vy_g': vy, 'vz_g': vz, 'rho_g' : rhog})"
   ]
  },
  {
   "cell_type": "code",
   "execution_count": null,
   "id": "bb7ccb47",
   "metadata": {},
   "outputs": [],
   "source": [
    "df.to_csv('2fluid/v_rho.csv', index = False)"
   ]
  },
  {
   "cell_type": "markdown",
   "id": "e014123e",
   "metadata": {},
   "source": [
    "# Stopping time of dust particles in the 2-fluid method"
   ]
  },
  {
   "cell_type": "code",
   "execution_count": 4,
   "id": "a6b58e24",
   "metadata": {},
   "outputs": [],
   "source": [
    "df = pd.read_csv('2fluid/v_rho.csv')"
   ]
  },
  {
   "cell_type": "code",
   "execution_count": 5,
   "id": "cc38a61d",
   "metadata": {},
   "outputs": [
    {
     "name": "stderr",
     "output_type": "stream",
     "text": [
      "/users/labnet6/gr2/nvadood/virtual-env/lib/python3.8/site-packages/numba/cuda/cudadrv/nvvm.py:400: UserWarning: CUDA Toolkit 10.1 is unsupported by Numba - 11.0 is the minimum required version.\n",
      "  warnings.warn(unsupported_ver)\n",
      "/users/labnet6/gr2/nvadood/virtual-env/lib/python3.8/site-packages/numba/cuda/cudadrv/nvvm.py:400: UserWarning: CUDA Toolkit 10.1 is unsupported by Numba - 11.0 is the minimum required version.\n",
      "  warnings.warn(unsupported_ver)\n"
     ]
    }
   ],
   "source": [
    "df.index = df.index + 16777216\n",
    "sdf_d_tmp = sdf_d.merge(df,  left_index=True, right_index=True)"
   ]
  },
  {
   "cell_type": "code",
   "execution_count": 6,
   "id": "d3d35a86",
   "metadata": {},
   "outputs": [],
   "source": [
    "vx_diff = sdf_d_tmp['vx_g'] - sdf_d_tmp['vx']\n",
    "vy_diff = sdf_d_tmp['vy_g'] - sdf_d_tmp['vy']\n",
    "vz_diff = sdf_d_tmp['vz_g'] - sdf_d_tmp['vz']"
   ]
  },
  {
   "cell_type": "code",
   "execution_count": 7,
   "id": "da86af84",
   "metadata": {},
   "outputs": [],
   "source": [
    "diffs_array = np.column_stack((vx_diff, vy_diff, vz_diff))"
   ]
  },
  {
   "cell_type": "code",
   "execution_count": 8,
   "id": "497114a7",
   "metadata": {},
   "outputs": [],
   "source": [
    "rho_grain=3.000E+20\n",
    "sgrain=1.080E-22\n",
    "gamma=1\n",
    "    \n",
    "sdf_d_tmp['tstop'] = np.sqrt(np.pi*gamma*0.125)*rho_grain*sgrain/(sdf_d_tmp['rho']+sdf_d_tmp['rho_g'])\n",
    "sdf_d_tmp['tstop_f'] = np.sqrt(np.pi*gamma*0.125)*rho_grain*sgrain/(sdf_d_tmp['rho']+sdf_d_tmp['rho_g'])/np.sqrt(1+0.0703125*np.pi*(np.linalg.norm(diffs_array, axis=1))**2)"
   ]
  },
  {
   "cell_type": "code",
   "execution_count": 9,
   "id": "d34bba6e",
   "metadata": {},
   "outputs": [
    {
     "name": "stderr",
     "output_type": "stream",
     "text": [
      "/users/labnet6/gr2/nvadood/virtual-env/lib/python3.8/site-packages/numba/cuda/cudadrv/nvvm.py:400: UserWarning: CUDA Toolkit 10.1 is unsupported by Numba - 11.0 is the minimum required version.\n",
      "  warnings.warn(unsupported_ver)\n"
     ]
    }
   ],
   "source": [
    "sdf_d_tmp = sdf_d_tmp[['rho','rho_g', 'tstop', 'tstop_f']]"
   ]
  },
  {
   "cell_type": "code",
   "execution_count": 10,
   "id": "66f52f2e",
   "metadata": {},
   "outputs": [],
   "source": [
    "sdf_d_tmp.to_csv('df_tstop.csv', index= False)"
   ]
  },
  {
   "cell_type": "markdown",
   "id": "4a9af679",
   "metadata": {},
   "source": [
    "# Stokes number per dust particle in 2-fluid"
   ]
  },
  {
   "cell_type": "code",
   "execution_count": null,
   "id": "9d689e00",
   "metadata": {},
   "outputs": [],
   "source": [
    "sdf_d_tmp = pd.read_csv('df_tstop.csv')"
   ]
  },
  {
   "cell_type": "code",
   "execution_count": 11,
   "id": "56e4fb0e",
   "metadata": {},
   "outputs": [],
   "source": [
    "sdf_d_tmp['h_g'] = 1.2*5.900860E-08**(1/3)/sdf_d_tmp['rho_g']**(1/3) "
   ]
  },
  {
   "cell_type": "code",
   "execution_count": 12,
   "id": "49d799d5",
   "metadata": {},
   "outputs": [],
   "source": [
    "# Stokes number without the turvulence correction factor\n",
    "sdf_d_tmp['St'] = sdf_d_tmp['tstop']/sdf_d_tmp['h_g']\n",
    "\n",
    "# Stokes number with the turbulence correction factor (f)\n",
    "sdf_d_tmp['St_f'] = sdf_d_tmp['tstop_f']/sdf_d_tmp['h_g']"
   ]
  },
  {
   "cell_type": "code",
   "execution_count": 13,
   "id": "747c683e",
   "metadata": {},
   "outputs": [],
   "source": [
    "sdf_d.reset_index(drop=True, inplace=True)"
   ]
  },
  {
   "cell_type": "code",
   "execution_count": 14,
   "id": "3f8b5775",
   "metadata": {},
   "outputs": [],
   "source": [
    "# Add Stokes number to the dust data \n",
    "sdf_d['stokes'] = sdf_d_tmp['St_f']"
   ]
  },
  {
   "cell_type": "markdown",
   "id": "13c9a31d",
   "metadata": {},
   "source": [
    "# Stokes number in 1-fluid"
   ]
  },
  {
   "cell_type": "code",
   "execution_count": 17,
   "id": "937d63b9",
   "metadata": {},
   "outputs": [
    {
     "name": "stderr",
     "output_type": "stream",
     "text": [
      "/users/labnet6/gr2/nvadood/virtual-env/lib/python3.8/site-packages/numba/cuda/cudadrv/nvvm.py:400: UserWarning: CUDA Toolkit 10.1 is unsupported by Numba - 11.0 is the minimum required version.\n",
      "  warnings.warn(unsupported_ver)\n"
     ]
    }
   ],
   "source": [
    "sdf_1f = sarracen.read_phantom('limited/10mic256l_00160')"
   ]
  },
  {
   "cell_type": "code",
   "execution_count": 18,
   "id": "93893334",
   "metadata": {},
   "outputs": [],
   "source": [
    "grid_g= sdf_g.sph_interpolate('rho', x_pixels=256, y_pixels=256, z_pixels=256, backend='cpu').flatten()"
   ]
  },
  {
   "cell_type": "code",
   "execution_count": 19,
   "id": "24488cf0",
   "metadata": {},
   "outputs": [],
   "source": [
    "sdf_1f.calc_density()"
   ]
  },
  {
   "cell_type": "code",
   "execution_count": 20,
   "id": "566b8694",
   "metadata": {},
   "outputs": [],
   "source": [
    "# limiting the stopping time to be less than h (c_s = 1)\n",
    "sdf_1f['limited-tstop'] = sdf_1f.apply(lambda row: row['tstop'] if row['tstop'] < row['h'] else row['h'], axis=1)"
   ]
  },
  {
   "cell_type": "code",
   "execution_count": 21,
   "id": "e6f675f7",
   "metadata": {},
   "outputs": [],
   "source": [
    "st_lim = sdf_1f['limited-tstop']/sdf_1f['h']\n",
    "St_1f = pd.DataFrame()\n",
    "St_1f['value'], bins = np.histogram(np.log10(st_lim), bins=120, range=(-2, 2))\n",
    "St_1f['value'] = St_1f['value']/St_1f['value'].sum()\n",
    "St_1f['bins'] = bins[:120]"
   ]
  },
  {
   "cell_type": "code",
   "execution_count": 22,
   "id": "dfee7708",
   "metadata": {},
   "outputs": [],
   "source": [
    "st_2f_f = sdf_d_tmp['tstop_f']/sdf_d_tmp['h_g']\n",
    "St_2f_f = pd.DataFrame()\n",
    "St_2f_f['value'], bins = np.histogram(np.log10(st_2f_f), bins=120, range=(-2, 2))\n",
    "St_2f_f['value'] = St_2f_f['value']/St_2f_f['value'].sum()\n",
    "St_2f_f['bins'] = bins[:120]"
   ]
  },
  {
   "cell_type": "code",
   "execution_count": 23,
   "id": "d7fcdaf4",
   "metadata": {},
   "outputs": [
    {
     "data": {
      "image/png": "[encoded data removed]",
      "text/plain": [
       "<Figure size 600x600 with 1 Axes>"
      ]
     },
     "metadata": {},
     "output_type": "display_data"
    }
   ],
   "source": [
    "fig, ax = plt.subplots(figsize=(6,6))\n",
    "ax = sns.lineplot(data=St_1f, x='bins', y='value', ax=ax, errorbar='sd', label = '1-fluid')\n",
    "ax = sns.lineplot(data=St_2f_f, x='bins', y='value', ax=ax, errorbar='sd', color = 'green', label = '2-fluid')\n",
    "ax.legend()\n",
    "ax.set_yscale('log')\n",
    "ax.set_ylim((1e-4, 1))\n",
    "ax.set_xlim((-1.6, 1.6))\n",
    "# ax.set_xscale('log')\n",
    "ax.set(xlabel=r'$\\log(St)$',\n",
    "       ylabel=r'PDF $\\log(St)$',\n",
    "       title=r'10 $\\mu$m')\n",
    "fig.savefig('stokes_dist_10mic_log.pdf')"
   ]
  },
  {
   "cell_type": "markdown",
   "id": "de065235",
   "metadata": {},
   "source": [
    "# Fraction of grids with St = 1 in the limited 1-fluid method"
   ]
  },
  {
   "cell_type": "code",
   "execution_count": 28,
   "id": "7f170366",
   "metadata": {},
   "outputs": [
    {
     "data": {
      "text/plain": [
       "0.7764788269996643"
      ]
     },
     "execution_count": 28,
     "metadata": {},
     "output_type": "execute_result"
    }
   ],
   "source": [
    "st_lim[st_lim == 1.0].sum() / len(st_lim)"
   ]
  }
 ],
 "metadata": {
  "kernelspec": {
   "display_name": "Python 3 (ipykernel)",
   "language": "python",
   "name": "python3"
  },
  "language_info": {
   "codemirror_mode": {
    "name": "ipython",
    "version": 3
   },
   "file_extension": ".py",
   "mimetype": "text/x-python",
   "name": "python",
   "nbconvert_exporter": "python",
   "pygments_lexer": "ipython3",
   "version": "3.8.10"
  }
 },
 "nbformat": 4,
 "nbformat_minor": 5
}
